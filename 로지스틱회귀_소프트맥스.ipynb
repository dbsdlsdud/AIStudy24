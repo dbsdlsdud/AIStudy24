{
  "nbformat": 4,
  "nbformat_minor": 0,
  "metadata": {
    "colab": {
      "provenance": [],
      "authorship_tag": "ABX9TyMeYOdc6YpGFOzS2hcf0L4W",
      "include_colab_link": true
    },
    "kernelspec": {
      "name": "python3",
      "display_name": "Python 3"
    },
    "language_info": {
      "name": "python"
    }
  },
  "cells": [
    {
      "cell_type": "markdown",
      "metadata": {
        "id": "view-in-github",
        "colab_type": "text"
      },
      "source": [
        "<a href=\"https://colab.research.google.com/github/dbsdlsdud/AIStudy24/blob/master/%EB%A1%9C%EC%A7%80%EC%8A%A4%ED%8B%B1%ED%9A%8C%EA%B7%80_%EC%86%8C%ED%94%84%ED%8A%B8%EB%A7%A5%EC%8A%A4.ipynb\" target=\"_parent\"><img src=\"https://colab.research.google.com/assets/colab-badge.svg\" alt=\"Open In Colab\"/></a>"
      ]
    },
    {
      "cell_type": "code",
      "source": [],
      "metadata": {
        "id": "qOPKqvuIwL7K"
      },
      "execution_count": null,
      "outputs": []
    },
    {
      "cell_type": "markdown",
      "source": [
        "MBC쇼핑몰에서 럭키백을 판매하기로 했다.\n",
        "* 럭키백에는 생선이 들어있다. 종류 : 7가지(랜덤)\n",
        "* 럭키백에 확률 표시 : 들어있는 7가지 생선의 확률필요\n",
        "\n",
        "1. 럭키백 확률 : 생선 7마리\n",
        "2. 생선의 크기 (길이, 높이, 두께, 대각선의 길이, 무게)"
      ],
      "metadata": {
        "id": "96ypvewqqW8Z"
      }
    },
    {
      "cell_type": "code",
      "execution_count": 1,
      "metadata": {
        "colab": {
          "base_uri": "https://localhost:8080/",
          "height": 206
        },
        "id": "gUmWWkq4gv4h",
        "outputId": "b49d7af0-5ade-4048-8359-13468795bd21"
      },
      "outputs": [
        {
          "output_type": "execute_result",
          "data": {
            "text/plain": [
              "  Species  Weight  Length  Diagonal   Height   Width\n",
              "0   Bream   242.0    25.4      30.0  11.5200  4.0200\n",
              "1   Bream   290.0    26.3      31.2  12.4800  4.3056\n",
              "2   Bream   340.0    26.5      31.1  12.3778  4.6961\n",
              "3   Bream   363.0    29.0      33.5  12.7300  4.4555\n",
              "4   Bream   430.0    29.0      34.0  12.4440  5.1340"
            ],
            "text/html": [
              "\n",
              "  <div id=\"df-996cda27-f304-4c00-910a-278cb63c8e83\" class=\"colab-df-container\">\n",
              "    <div>\n",
              "<style scoped>\n",
              "    .dataframe tbody tr th:only-of-type {\n",
              "        vertical-align: middle;\n",
              "    }\n",
              "\n",
              "    .dataframe tbody tr th {\n",
              "        vertical-align: top;\n",
              "    }\n",
              "\n",
              "    .dataframe thead th {\n",
              "        text-align: right;\n",
              "    }\n",
              "</style>\n",
              "<table border=\"1\" class=\"dataframe\">\n",
              "  <thead>\n",
              "    <tr style=\"text-align: right;\">\n",
              "      <th></th>\n",
              "      <th>Species</th>\n",
              "      <th>Weight</th>\n",
              "      <th>Length</th>\n",
              "      <th>Diagonal</th>\n",
              "      <th>Height</th>\n",
              "      <th>Width</th>\n",
              "    </tr>\n",
              "  </thead>\n",
              "  <tbody>\n",
              "    <tr>\n",
              "      <th>0</th>\n",
              "      <td>Bream</td>\n",
              "      <td>242.0</td>\n",
              "      <td>25.4</td>\n",
              "      <td>30.0</td>\n",
              "      <td>11.5200</td>\n",
              "      <td>4.0200</td>\n",
              "    </tr>\n",
              "    <tr>\n",
              "      <th>1</th>\n",
              "      <td>Bream</td>\n",
              "      <td>290.0</td>\n",
              "      <td>26.3</td>\n",
              "      <td>31.2</td>\n",
              "      <td>12.4800</td>\n",
              "      <td>4.3056</td>\n",
              "    </tr>\n",
              "    <tr>\n",
              "      <th>2</th>\n",
              "      <td>Bream</td>\n",
              "      <td>340.0</td>\n",
              "      <td>26.5</td>\n",
              "      <td>31.1</td>\n",
              "      <td>12.3778</td>\n",
              "      <td>4.6961</td>\n",
              "    </tr>\n",
              "    <tr>\n",
              "      <th>3</th>\n",
              "      <td>Bream</td>\n",
              "      <td>363.0</td>\n",
              "      <td>29.0</td>\n",
              "      <td>33.5</td>\n",
              "      <td>12.7300</td>\n",
              "      <td>4.4555</td>\n",
              "    </tr>\n",
              "    <tr>\n",
              "      <th>4</th>\n",
              "      <td>Bream</td>\n",
              "      <td>430.0</td>\n",
              "      <td>29.0</td>\n",
              "      <td>34.0</td>\n",
              "      <td>12.4440</td>\n",
              "      <td>5.1340</td>\n",
              "    </tr>\n",
              "  </tbody>\n",
              "</table>\n",
              "</div>\n",
              "    <div class=\"colab-df-buttons\">\n",
              "\n",
              "  <div class=\"colab-df-container\">\n",
              "    <button class=\"colab-df-convert\" onclick=\"convertToInteractive('df-996cda27-f304-4c00-910a-278cb63c8e83')\"\n",
              "            title=\"Convert this dataframe to an interactive table.\"\n",
              "            style=\"display:none;\">\n",
              "\n",
              "  <svg xmlns=\"http://www.w3.org/2000/svg\" height=\"24px\" viewBox=\"0 -960 960 960\">\n",
              "    <path d=\"M120-120v-720h720v720H120Zm60-500h600v-160H180v160Zm220 220h160v-160H400v160Zm0 220h160v-160H400v160ZM180-400h160v-160H180v160Zm440 0h160v-160H620v160ZM180-180h160v-160H180v160Zm440 0h160v-160H620v160Z\"/>\n",
              "  </svg>\n",
              "    </button>\n",
              "\n",
              "  <style>\n",
              "    .colab-df-container {\n",
              "      display:flex;\n",
              "      gap: 12px;\n",
              "    }\n",
              "\n",
              "    .colab-df-convert {\n",
              "      background-color: #E8F0FE;\n",
              "      border: none;\n",
              "      border-radius: 50%;\n",
              "      cursor: pointer;\n",
              "      display: none;\n",
              "      fill: #1967D2;\n",
              "      height: 32px;\n",
              "      padding: 0 0 0 0;\n",
              "      width: 32px;\n",
              "    }\n",
              "\n",
              "    .colab-df-convert:hover {\n",
              "      background-color: #E2EBFA;\n",
              "      box-shadow: 0px 1px 2px rgba(60, 64, 67, 0.3), 0px 1px 3px 1px rgba(60, 64, 67, 0.15);\n",
              "      fill: #174EA6;\n",
              "    }\n",
              "\n",
              "    .colab-df-buttons div {\n",
              "      margin-bottom: 4px;\n",
              "    }\n",
              "\n",
              "    [theme=dark] .colab-df-convert {\n",
              "      background-color: #3B4455;\n",
              "      fill: #D2E3FC;\n",
              "    }\n",
              "\n",
              "    [theme=dark] .colab-df-convert:hover {\n",
              "      background-color: #434B5C;\n",
              "      box-shadow: 0px 1px 3px 1px rgba(0, 0, 0, 0.15);\n",
              "      filter: drop-shadow(0px 1px 2px rgba(0, 0, 0, 0.3));\n",
              "      fill: #FFFFFF;\n",
              "    }\n",
              "  </style>\n",
              "\n",
              "    <script>\n",
              "      const buttonEl =\n",
              "        document.querySelector('#df-996cda27-f304-4c00-910a-278cb63c8e83 button.colab-df-convert');\n",
              "      buttonEl.style.display =\n",
              "        google.colab.kernel.accessAllowed ? 'block' : 'none';\n",
              "\n",
              "      async function convertToInteractive(key) {\n",
              "        const element = document.querySelector('#df-996cda27-f304-4c00-910a-278cb63c8e83');\n",
              "        const dataTable =\n",
              "          await google.colab.kernel.invokeFunction('convertToInteractive',\n",
              "                                                    [key], {});\n",
              "        if (!dataTable) return;\n",
              "\n",
              "        const docLinkHtml = 'Like what you see? Visit the ' +\n",
              "          '<a target=\"_blank\" href=https://colab.research.google.com/notebooks/data_table.ipynb>data table notebook</a>'\n",
              "          + ' to learn more about interactive tables.';\n",
              "        element.innerHTML = '';\n",
              "        dataTable['output_type'] = 'display_data';\n",
              "        await google.colab.output.renderOutput(dataTable, element);\n",
              "        const docLink = document.createElement('div');\n",
              "        docLink.innerHTML = docLinkHtml;\n",
              "        element.appendChild(docLink);\n",
              "      }\n",
              "    </script>\n",
              "  </div>\n",
              "\n",
              "\n",
              "<div id=\"df-adee3a24-2a6c-47b6-91f1-6782b9fc798d\">\n",
              "  <button class=\"colab-df-quickchart\" onclick=\"quickchart('df-adee3a24-2a6c-47b6-91f1-6782b9fc798d')\"\n",
              "            title=\"Suggest charts\"\n",
              "            style=\"display:none;\">\n",
              "\n",
              "<svg xmlns=\"http://www.w3.org/2000/svg\" height=\"24px\"viewBox=\"0 0 24 24\"\n",
              "     width=\"24px\">\n",
              "    <g>\n",
              "        <path d=\"M19 3H5c-1.1 0-2 .9-2 2v14c0 1.1.9 2 2 2h14c1.1 0 2-.9 2-2V5c0-1.1-.9-2-2-2zM9 17H7v-7h2v7zm4 0h-2V7h2v10zm4 0h-2v-4h2v4z\"/>\n",
              "    </g>\n",
              "</svg>\n",
              "  </button>\n",
              "\n",
              "<style>\n",
              "  .colab-df-quickchart {\n",
              "      --bg-color: #E8F0FE;\n",
              "      --fill-color: #1967D2;\n",
              "      --hover-bg-color: #E2EBFA;\n",
              "      --hover-fill-color: #174EA6;\n",
              "      --disabled-fill-color: #AAA;\n",
              "      --disabled-bg-color: #DDD;\n",
              "  }\n",
              "\n",
              "  [theme=dark] .colab-df-quickchart {\n",
              "      --bg-color: #3B4455;\n",
              "      --fill-color: #D2E3FC;\n",
              "      --hover-bg-color: #434B5C;\n",
              "      --hover-fill-color: #FFFFFF;\n",
              "      --disabled-bg-color: #3B4455;\n",
              "      --disabled-fill-color: #666;\n",
              "  }\n",
              "\n",
              "  .colab-df-quickchart {\n",
              "    background-color: var(--bg-color);\n",
              "    border: none;\n",
              "    border-radius: 50%;\n",
              "    cursor: pointer;\n",
              "    display: none;\n",
              "    fill: var(--fill-color);\n",
              "    height: 32px;\n",
              "    padding: 0;\n",
              "    width: 32px;\n",
              "  }\n",
              "\n",
              "  .colab-df-quickchart:hover {\n",
              "    background-color: var(--hover-bg-color);\n",
              "    box-shadow: 0 1px 2px rgba(60, 64, 67, 0.3), 0 1px 3px 1px rgba(60, 64, 67, 0.15);\n",
              "    fill: var(--button-hover-fill-color);\n",
              "  }\n",
              "\n",
              "  .colab-df-quickchart-complete:disabled,\n",
              "  .colab-df-quickchart-complete:disabled:hover {\n",
              "    background-color: var(--disabled-bg-color);\n",
              "    fill: var(--disabled-fill-color);\n",
              "    box-shadow: none;\n",
              "  }\n",
              "\n",
              "  .colab-df-spinner {\n",
              "    border: 2px solid var(--fill-color);\n",
              "    border-color: transparent;\n",
              "    border-bottom-color: var(--fill-color);\n",
              "    animation:\n",
              "      spin 1s steps(1) infinite;\n",
              "  }\n",
              "\n",
              "  @keyframes spin {\n",
              "    0% {\n",
              "      border-color: transparent;\n",
              "      border-bottom-color: var(--fill-color);\n",
              "      border-left-color: var(--fill-color);\n",
              "    }\n",
              "    20% {\n",
              "      border-color: transparent;\n",
              "      border-left-color: var(--fill-color);\n",
              "      border-top-color: var(--fill-color);\n",
              "    }\n",
              "    30% {\n",
              "      border-color: transparent;\n",
              "      border-left-color: var(--fill-color);\n",
              "      border-top-color: var(--fill-color);\n",
              "      border-right-color: var(--fill-color);\n",
              "    }\n",
              "    40% {\n",
              "      border-color: transparent;\n",
              "      border-right-color: var(--fill-color);\n",
              "      border-top-color: var(--fill-color);\n",
              "    }\n",
              "    60% {\n",
              "      border-color: transparent;\n",
              "      border-right-color: var(--fill-color);\n",
              "    }\n",
              "    80% {\n",
              "      border-color: transparent;\n",
              "      border-right-color: var(--fill-color);\n",
              "      border-bottom-color: var(--fill-color);\n",
              "    }\n",
              "    90% {\n",
              "      border-color: transparent;\n",
              "      border-bottom-color: var(--fill-color);\n",
              "    }\n",
              "  }\n",
              "</style>\n",
              "\n",
              "  <script>\n",
              "    async function quickchart(key) {\n",
              "      const quickchartButtonEl =\n",
              "        document.querySelector('#' + key + ' button');\n",
              "      quickchartButtonEl.disabled = true;  // To prevent multiple clicks.\n",
              "      quickchartButtonEl.classList.add('colab-df-spinner');\n",
              "      try {\n",
              "        const charts = await google.colab.kernel.invokeFunction(\n",
              "            'suggestCharts', [key], {});\n",
              "      } catch (error) {\n",
              "        console.error('Error during call to suggestCharts:', error);\n",
              "      }\n",
              "      quickchartButtonEl.classList.remove('colab-df-spinner');\n",
              "      quickchartButtonEl.classList.add('colab-df-quickchart-complete');\n",
              "    }\n",
              "    (() => {\n",
              "      let quickchartButtonEl =\n",
              "        document.querySelector('#df-adee3a24-2a6c-47b6-91f1-6782b9fc798d button');\n",
              "      quickchartButtonEl.style.display =\n",
              "        google.colab.kernel.accessAllowed ? 'block' : 'none';\n",
              "    })();\n",
              "  </script>\n",
              "</div>\n",
              "\n",
              "    </div>\n",
              "  </div>\n"
            ],
            "application/vnd.google.colaboratory.intrinsic+json": {
              "type": "dataframe",
              "variable_name": "fish",
              "summary": "{\n  \"name\": \"fish\",\n  \"rows\": 159,\n  \"fields\": [\n    {\n      \"column\": \"Species\",\n      \"properties\": {\n        \"dtype\": \"category\",\n        \"num_unique_values\": 7,\n        \"samples\": [\n          \"Bream\",\n          \"Roach\",\n          \"Pike\"\n        ],\n        \"semantic_type\": \"\",\n        \"description\": \"\"\n      }\n    },\n    {\n      \"column\": \"Weight\",\n      \"properties\": {\n        \"dtype\": \"number\",\n        \"std\": 357.9783165508931,\n        \"min\": 0.0,\n        \"max\": 1650.0,\n        \"num_unique_values\": 101,\n        \"samples\": [\n          770.0,\n          51.5,\n          197.0\n        ],\n        \"semantic_type\": \"\",\n        \"description\": \"\"\n      }\n    },\n    {\n      \"column\": \"Length\",\n      \"properties\": {\n        \"dtype\": \"number\",\n        \"std\": 10.716328098884247,\n        \"min\": 8.4,\n        \"max\": 63.4,\n        \"num_unique_values\": 93,\n        \"samples\": [\n          14.7,\n          18.8,\n          19.6\n        ],\n        \"semantic_type\": \"\",\n        \"description\": \"\"\n      }\n    },\n    {\n      \"column\": \"Diagonal\",\n      \"properties\": {\n        \"dtype\": \"number\",\n        \"std\": 11.610245832690964,\n        \"min\": 8.8,\n        \"max\": 68.0,\n        \"num_unique_values\": 124,\n        \"samples\": [\n          39.2,\n          27.2,\n          23.1\n        ],\n        \"semantic_type\": \"\",\n        \"description\": \"\"\n      }\n    },\n    {\n      \"column\": \"Height\",\n      \"properties\": {\n        \"dtype\": \"number\",\n        \"std\": 4.286207619968867,\n        \"min\": 1.7284,\n        \"max\": 18.957,\n        \"num_unique_values\": 154,\n        \"samples\": [\n          15.438,\n          7.293,\n          2.8728\n        ],\n        \"semantic_type\": \"\",\n        \"description\": \"\"\n      }\n    },\n    {\n      \"column\": \"Width\",\n      \"properties\": {\n        \"dtype\": \"number\",\n        \"std\": 1.6858038699921671,\n        \"min\": 1.0476,\n        \"max\": 8.142,\n        \"num_unique_values\": 152,\n        \"samples\": [\n          3.1571,\n          1.3936,\n          3.6835\n        ],\n        \"semantic_type\": \"\",\n        \"description\": \"\"\n      }\n    }\n  ]\n}"
            }
          },
          "metadata": {},
          "execution_count": 1
        }
      ],
      "source": [
        "# k-최근접 알고리즘 - 회귀 ?, 분류 ? : 확률을 알고 싶은 것이기 때문에 회귀를 사용\n",
        "# 샘플 10개 중 농어가 3개면 3/10 = 0.3 + 빙어가 5개면 5/10 = 0.5 + 도미가 2개면 2/10 = 0.2 = 100%\n",
        "# 사이킷런의 k-최근접 이웃 분리기도 동일한 방식으로 확률계산도 해준다.\n",
        "\n",
        "# 로지스틱회귀 : 럭키백 확률\n",
        "# 샘플데이터 준비\n",
        "import pandas as pd # 판다스로 csv가져오기\n",
        "fish = pd.read_csv('https://bit.ly/fish_csv_data') # 웹에 있는 파일 가져오기\n",
        "fish.head() # 제일 윗쪽 데이터 5개 보여줌\n",
        "# 종류, 무게, 길이, 대각선, 높이, 두께"
      ]
    },
    {
      "cell_type": "code",
      "source": [
        "print(pd.unique(fish['Species'])) # 유니크하게 종류 출력(유일한 값 출력)\n",
        "\n",
        "# 7개의 어종이 분포되어 있다. Bream : 도미, Roach : 대구, Whitefish : 잉어\n",
        "# Raekki : 붕어, Rerch : 농어, Pike : 가물치, Smalt : 빙어"
      ],
      "metadata": {
        "colab": {
          "base_uri": "https://localhost:8080/"
        },
        "id": "snIUmtfJ0TQS",
        "outputId": "814d0b49-659b-49c5-857c-f9a13ac2b439"
      },
      "execution_count": 2,
      "outputs": [
        {
          "output_type": "stream",
          "name": "stdout",
          "text": [
            "['Bream' 'Roach' 'Whitefish' 'Parkki' 'Perch' 'Pike' 'Smelt']\n"
          ]
        }
      ]
    },
    {
      "cell_type": "code",
      "source": [
        "# 분석용 입력값 생성\n",
        "fish_input = fish[['Weight','Length','Diagonal','Height','Width']].to_numpy()\n",
        "# 원하는 필드를 넣어 필터링\n",
        "print(fish_input[:5]) # 앞에서  부터 5개 출력"
      ],
      "metadata": {
        "colab": {
          "base_uri": "https://localhost:8080/"
        },
        "id": "_kuzQARW1u_q",
        "outputId": "4ae1aae3-2973-4570-fd0b-ed9f3961fe46"
      },
      "execution_count": 3,
      "outputs": [
        {
          "output_type": "stream",
          "name": "stdout",
          "text": [
            "[[242.      25.4     30.      11.52     4.02  ]\n",
            " [290.      26.3     31.2     12.48     4.3056]\n",
            " [340.      26.5     31.1     12.3778   4.6961]\n",
            " [363.      29.      33.5     12.73     4.4555]\n",
            " [430.      29.      34.      12.444    5.134 ]]\n"
          ]
        }
      ]
    },
    {
      "cell_type": "code",
      "source": [
        "# 정답 리스트 생성\n",
        "fish_target = fish['Species'].to_numpy()\n",
        "# fish[['Species']]라고 적으면 2차원 배열이 된다\n",
        "print(fish_target[:5])"
      ],
      "metadata": {
        "colab": {
          "base_uri": "https://localhost:8080/"
        },
        "id": "-H58OpHi2tj7",
        "outputId": "69db1d5c-fcaf-42d1-fa16-fa25dab4f68d"
      },
      "execution_count": 6,
      "outputs": [
        {
          "output_type": "stream",
          "name": "stdout",
          "text": [
            "['Bream' 'Bream' 'Bream' 'Bream' 'Bream']\n"
          ]
        }
      ]
    },
    {
      "cell_type": "code",
      "source": [
        "from sklearn.model_selection import train_test_split\n",
        "# 훈령용, 테스트용 나누기\n",
        "train_input, test_input, train_target, test_target = train_test_split(fish_input, fish_target, random_state=42)\n",
        "# 훈련용 : 119개의 5개 특성, 테스트용 : 40개의 5개 특성\n",
        "print(train_input.shape, test_input.shape)"
      ],
      "metadata": {
        "colab": {
          "base_uri": "https://localhost:8080/"
        },
        "id": "R_S_DXI634O6",
        "outputId": "c02c61f0-5ace-41fc-f176-ad1baf72ed99"
      },
      "execution_count": 10,
      "outputs": [
        {
          "output_type": "stream",
          "name": "stdout",
          "text": [
            "(119, 5) (40, 5)\n"
          ]
        }
      ]
    },
    {
      "cell_type": "code",
      "source": [
        "from sklearn.preprocessing import StandardScaler # 사이킷런의 전처리용(스케일조정) / 표준점수화\n",
        "\n",
        "ss = StandardScaler()\n",
        "ss.fit(train_input)\n",
        "train_scaled = ss.transform(train_input)\n",
        "test_scaled = ss.transform(test_input)\n",
        "print(train_scaled[:3])\n",
        "print(test_scaled[:3])"
      ],
      "metadata": {
        "colab": {
          "base_uri": "https://localhost:8080/"
        },
        "id": "ObO0CKxQ46-r",
        "outputId": "f108c1ab-3acd-451d-adae-93f6a5cac232"
      },
      "execution_count": 31,
      "outputs": [
        {
          "output_type": "stream",
          "name": "stdout",
          "text": [
            "[[ 0.91965782  0.60943175  0.81041221  1.85194896  1.00075672]\n",
            " [ 0.30041219  1.54653445  1.45316551 -0.46981663  0.27291745]\n",
            " [-1.0858536  -1.68646987 -1.70848587 -1.70159849 -2.0044758 ]]\n",
            "[[-0.88741352 -0.91804565 -1.03098914 -0.90464451 -0.80762518]\n",
            " [-1.06924656 -1.50842035 -1.54345461 -1.58849582 -1.93803151]\n",
            " [-0.54401367  0.35641402  0.30663259 -0.8135697  -0.65388895]]\n"
          ]
        }
      ]
    },
    {
      "cell_type": "code",
      "source": [
        "from sklearn.neighbors import KNeighborsClassifier # 분류용\n",
        "\n",
        "kn = KNeighborsClassifier(n_neighbors=3) # 이웃 3개 참고\n",
        "kn.fit(train_scaled, train_target) # 훈련 시작"
      ],
      "metadata": {
        "colab": {
          "base_uri": "https://localhost:8080/",
          "height": 80
        },
        "id": "PZnsXw5u51JK",
        "outputId": "7fc1fae6-d3a4-4369-a8ae-171a2542509f"
      },
      "execution_count": 55,
      "outputs": [
        {
          "output_type": "execute_result",
          "data": {
            "text/plain": [
              "KNeighborsClassifier(n_neighbors=3)"
            ],
            "text/html": [
              "<style>#sk-container-id-3 {\n",
              "  /* Definition of color scheme common for light and dark mode */\n",
              "  --sklearn-color-text: #000;\n",
              "  --sklearn-color-text-muted: #666;\n",
              "  --sklearn-color-line: gray;\n",
              "  /* Definition of color scheme for unfitted estimators */\n",
              "  --sklearn-color-unfitted-level-0: #fff5e6;\n",
              "  --sklearn-color-unfitted-level-1: #f6e4d2;\n",
              "  --sklearn-color-unfitted-level-2: #ffe0b3;\n",
              "  --sklearn-color-unfitted-level-3: chocolate;\n",
              "  /* Definition of color scheme for fitted estimators */\n",
              "  --sklearn-color-fitted-level-0: #f0f8ff;\n",
              "  --sklearn-color-fitted-level-1: #d4ebff;\n",
              "  --sklearn-color-fitted-level-2: #b3dbfd;\n",
              "  --sklearn-color-fitted-level-3: cornflowerblue;\n",
              "\n",
              "  /* Specific color for light theme */\n",
              "  --sklearn-color-text-on-default-background: var(--sg-text-color, var(--theme-code-foreground, var(--jp-content-font-color1, black)));\n",
              "  --sklearn-color-background: var(--sg-background-color, var(--theme-background, var(--jp-layout-color0, white)));\n",
              "  --sklearn-color-border-box: var(--sg-text-color, var(--theme-code-foreground, var(--jp-content-font-color1, black)));\n",
              "  --sklearn-color-icon: #696969;\n",
              "\n",
              "  @media (prefers-color-scheme: dark) {\n",
              "    /* Redefinition of color scheme for dark theme */\n",
              "    --sklearn-color-text-on-default-background: var(--sg-text-color, var(--theme-code-foreground, var(--jp-content-font-color1, white)));\n",
              "    --sklearn-color-background: var(--sg-background-color, var(--theme-background, var(--jp-layout-color0, #111)));\n",
              "    --sklearn-color-border-box: var(--sg-text-color, var(--theme-code-foreground, var(--jp-content-font-color1, white)));\n",
              "    --sklearn-color-icon: #878787;\n",
              "  }\n",
              "}\n",
              "\n",
              "#sk-container-id-3 {\n",
              "  color: var(--sklearn-color-text);\n",
              "}\n",
              "\n",
              "#sk-container-id-3 pre {\n",
              "  padding: 0;\n",
              "}\n",
              "\n",
              "#sk-container-id-3 input.sk-hidden--visually {\n",
              "  border: 0;\n",
              "  clip: rect(1px 1px 1px 1px);\n",
              "  clip: rect(1px, 1px, 1px, 1px);\n",
              "  height: 1px;\n",
              "  margin: -1px;\n",
              "  overflow: hidden;\n",
              "  padding: 0;\n",
              "  position: absolute;\n",
              "  width: 1px;\n",
              "}\n",
              "\n",
              "#sk-container-id-3 div.sk-dashed-wrapped {\n",
              "  border: 1px dashed var(--sklearn-color-line);\n",
              "  margin: 0 0.4em 0.5em 0.4em;\n",
              "  box-sizing: border-box;\n",
              "  padding-bottom: 0.4em;\n",
              "  background-color: var(--sklearn-color-background);\n",
              "}\n",
              "\n",
              "#sk-container-id-3 div.sk-container {\n",
              "  /* jupyter's `normalize.less` sets `[hidden] { display: none; }`\n",
              "     but bootstrap.min.css set `[hidden] { display: none !important; }`\n",
              "     so we also need the `!important` here to be able to override the\n",
              "     default hidden behavior on the sphinx rendered scikit-learn.org.\n",
              "     See: https://github.com/scikit-learn/scikit-learn/issues/21755 */\n",
              "  display: inline-block !important;\n",
              "  position: relative;\n",
              "}\n",
              "\n",
              "#sk-container-id-3 div.sk-text-repr-fallback {\n",
              "  display: none;\n",
              "}\n",
              "\n",
              "div.sk-parallel-item,\n",
              "div.sk-serial,\n",
              "div.sk-item {\n",
              "  /* draw centered vertical line to link estimators */\n",
              "  background-image: linear-gradient(var(--sklearn-color-text-on-default-background), var(--sklearn-color-text-on-default-background));\n",
              "  background-size: 2px 100%;\n",
              "  background-repeat: no-repeat;\n",
              "  background-position: center center;\n",
              "}\n",
              "\n",
              "/* Parallel-specific style estimator block */\n",
              "\n",
              "#sk-container-id-3 div.sk-parallel-item::after {\n",
              "  content: \"\";\n",
              "  width: 100%;\n",
              "  border-bottom: 2px solid var(--sklearn-color-text-on-default-background);\n",
              "  flex-grow: 1;\n",
              "}\n",
              "\n",
              "#sk-container-id-3 div.sk-parallel {\n",
              "  display: flex;\n",
              "  align-items: stretch;\n",
              "  justify-content: center;\n",
              "  background-color: var(--sklearn-color-background);\n",
              "  position: relative;\n",
              "}\n",
              "\n",
              "#sk-container-id-3 div.sk-parallel-item {\n",
              "  display: flex;\n",
              "  flex-direction: column;\n",
              "}\n",
              "\n",
              "#sk-container-id-3 div.sk-parallel-item:first-child::after {\n",
              "  align-self: flex-end;\n",
              "  width: 50%;\n",
              "}\n",
              "\n",
              "#sk-container-id-3 div.sk-parallel-item:last-child::after {\n",
              "  align-self: flex-start;\n",
              "  width: 50%;\n",
              "}\n",
              "\n",
              "#sk-container-id-3 div.sk-parallel-item:only-child::after {\n",
              "  width: 0;\n",
              "}\n",
              "\n",
              "/* Serial-specific style estimator block */\n",
              "\n",
              "#sk-container-id-3 div.sk-serial {\n",
              "  display: flex;\n",
              "  flex-direction: column;\n",
              "  align-items: center;\n",
              "  background-color: var(--sklearn-color-background);\n",
              "  padding-right: 1em;\n",
              "  padding-left: 1em;\n",
              "}\n",
              "\n",
              "\n",
              "/* Toggleable style: style used for estimator/Pipeline/ColumnTransformer box that is\n",
              "clickable and can be expanded/collapsed.\n",
              "- Pipeline and ColumnTransformer use this feature and define the default style\n",
              "- Estimators will overwrite some part of the style using the `sk-estimator` class\n",
              "*/\n",
              "\n",
              "/* Pipeline and ColumnTransformer style (default) */\n",
              "\n",
              "#sk-container-id-3 div.sk-toggleable {\n",
              "  /* Default theme specific background. It is overwritten whether we have a\n",
              "  specific estimator or a Pipeline/ColumnTransformer */\n",
              "  background-color: var(--sklearn-color-background);\n",
              "}\n",
              "\n",
              "/* Toggleable label */\n",
              "#sk-container-id-3 label.sk-toggleable__label {\n",
              "  cursor: pointer;\n",
              "  display: flex;\n",
              "  width: 100%;\n",
              "  margin-bottom: 0;\n",
              "  padding: 0.5em;\n",
              "  box-sizing: border-box;\n",
              "  text-align: center;\n",
              "  align-items: start;\n",
              "  justify-content: space-between;\n",
              "  gap: 0.5em;\n",
              "}\n",
              "\n",
              "#sk-container-id-3 label.sk-toggleable__label .caption {\n",
              "  font-size: 0.6rem;\n",
              "  font-weight: lighter;\n",
              "  color: var(--sklearn-color-text-muted);\n",
              "}\n",
              "\n",
              "#sk-container-id-3 label.sk-toggleable__label-arrow:before {\n",
              "  /* Arrow on the left of the label */\n",
              "  content: \"▸\";\n",
              "  float: left;\n",
              "  margin-right: 0.25em;\n",
              "  color: var(--sklearn-color-icon);\n",
              "}\n",
              "\n",
              "#sk-container-id-3 label.sk-toggleable__label-arrow:hover:before {\n",
              "  color: var(--sklearn-color-text);\n",
              "}\n",
              "\n",
              "/* Toggleable content - dropdown */\n",
              "\n",
              "#sk-container-id-3 div.sk-toggleable__content {\n",
              "  max-height: 0;\n",
              "  max-width: 0;\n",
              "  overflow: hidden;\n",
              "  text-align: left;\n",
              "  /* unfitted */\n",
              "  background-color: var(--sklearn-color-unfitted-level-0);\n",
              "}\n",
              "\n",
              "#sk-container-id-3 div.sk-toggleable__content.fitted {\n",
              "  /* fitted */\n",
              "  background-color: var(--sklearn-color-fitted-level-0);\n",
              "}\n",
              "\n",
              "#sk-container-id-3 div.sk-toggleable__content pre {\n",
              "  margin: 0.2em;\n",
              "  border-radius: 0.25em;\n",
              "  color: var(--sklearn-color-text);\n",
              "  /* unfitted */\n",
              "  background-color: var(--sklearn-color-unfitted-level-0);\n",
              "}\n",
              "\n",
              "#sk-container-id-3 div.sk-toggleable__content.fitted pre {\n",
              "  /* unfitted */\n",
              "  background-color: var(--sklearn-color-fitted-level-0);\n",
              "}\n",
              "\n",
              "#sk-container-id-3 input.sk-toggleable__control:checked~div.sk-toggleable__content {\n",
              "  /* Expand drop-down */\n",
              "  max-height: 200px;\n",
              "  max-width: 100%;\n",
              "  overflow: auto;\n",
              "}\n",
              "\n",
              "#sk-container-id-3 input.sk-toggleable__control:checked~label.sk-toggleable__label-arrow:before {\n",
              "  content: \"▾\";\n",
              "}\n",
              "\n",
              "/* Pipeline/ColumnTransformer-specific style */\n",
              "\n",
              "#sk-container-id-3 div.sk-label input.sk-toggleable__control:checked~label.sk-toggleable__label {\n",
              "  color: var(--sklearn-color-text);\n",
              "  background-color: var(--sklearn-color-unfitted-level-2);\n",
              "}\n",
              "\n",
              "#sk-container-id-3 div.sk-label.fitted input.sk-toggleable__control:checked~label.sk-toggleable__label {\n",
              "  background-color: var(--sklearn-color-fitted-level-2);\n",
              "}\n",
              "\n",
              "/* Estimator-specific style */\n",
              "\n",
              "/* Colorize estimator box */\n",
              "#sk-container-id-3 div.sk-estimator input.sk-toggleable__control:checked~label.sk-toggleable__label {\n",
              "  /* unfitted */\n",
              "  background-color: var(--sklearn-color-unfitted-level-2);\n",
              "}\n",
              "\n",
              "#sk-container-id-3 div.sk-estimator.fitted input.sk-toggleable__control:checked~label.sk-toggleable__label {\n",
              "  /* fitted */\n",
              "  background-color: var(--sklearn-color-fitted-level-2);\n",
              "}\n",
              "\n",
              "#sk-container-id-3 div.sk-label label.sk-toggleable__label,\n",
              "#sk-container-id-3 div.sk-label label {\n",
              "  /* The background is the default theme color */\n",
              "  color: var(--sklearn-color-text-on-default-background);\n",
              "}\n",
              "\n",
              "/* On hover, darken the color of the background */\n",
              "#sk-container-id-3 div.sk-label:hover label.sk-toggleable__label {\n",
              "  color: var(--sklearn-color-text);\n",
              "  background-color: var(--sklearn-color-unfitted-level-2);\n",
              "}\n",
              "\n",
              "/* Label box, darken color on hover, fitted */\n",
              "#sk-container-id-3 div.sk-label.fitted:hover label.sk-toggleable__label.fitted {\n",
              "  color: var(--sklearn-color-text);\n",
              "  background-color: var(--sklearn-color-fitted-level-2);\n",
              "}\n",
              "\n",
              "/* Estimator label */\n",
              "\n",
              "#sk-container-id-3 div.sk-label label {\n",
              "  font-family: monospace;\n",
              "  font-weight: bold;\n",
              "  display: inline-block;\n",
              "  line-height: 1.2em;\n",
              "}\n",
              "\n",
              "#sk-container-id-3 div.sk-label-container {\n",
              "  text-align: center;\n",
              "}\n",
              "\n",
              "/* Estimator-specific */\n",
              "#sk-container-id-3 div.sk-estimator {\n",
              "  font-family: monospace;\n",
              "  border: 1px dotted var(--sklearn-color-border-box);\n",
              "  border-radius: 0.25em;\n",
              "  box-sizing: border-box;\n",
              "  margin-bottom: 0.5em;\n",
              "  /* unfitted */\n",
              "  background-color: var(--sklearn-color-unfitted-level-0);\n",
              "}\n",
              "\n",
              "#sk-container-id-3 div.sk-estimator.fitted {\n",
              "  /* fitted */\n",
              "  background-color: var(--sklearn-color-fitted-level-0);\n",
              "}\n",
              "\n",
              "/* on hover */\n",
              "#sk-container-id-3 div.sk-estimator:hover {\n",
              "  /* unfitted */\n",
              "  background-color: var(--sklearn-color-unfitted-level-2);\n",
              "}\n",
              "\n",
              "#sk-container-id-3 div.sk-estimator.fitted:hover {\n",
              "  /* fitted */\n",
              "  background-color: var(--sklearn-color-fitted-level-2);\n",
              "}\n",
              "\n",
              "/* Specification for estimator info (e.g. \"i\" and \"?\") */\n",
              "\n",
              "/* Common style for \"i\" and \"?\" */\n",
              "\n",
              ".sk-estimator-doc-link,\n",
              "a:link.sk-estimator-doc-link,\n",
              "a:visited.sk-estimator-doc-link {\n",
              "  float: right;\n",
              "  font-size: smaller;\n",
              "  line-height: 1em;\n",
              "  font-family: monospace;\n",
              "  background-color: var(--sklearn-color-background);\n",
              "  border-radius: 1em;\n",
              "  height: 1em;\n",
              "  width: 1em;\n",
              "  text-decoration: none !important;\n",
              "  margin-left: 0.5em;\n",
              "  text-align: center;\n",
              "  /* unfitted */\n",
              "  border: var(--sklearn-color-unfitted-level-1) 1pt solid;\n",
              "  color: var(--sklearn-color-unfitted-level-1);\n",
              "}\n",
              "\n",
              ".sk-estimator-doc-link.fitted,\n",
              "a:link.sk-estimator-doc-link.fitted,\n",
              "a:visited.sk-estimator-doc-link.fitted {\n",
              "  /* fitted */\n",
              "  border: var(--sklearn-color-fitted-level-1) 1pt solid;\n",
              "  color: var(--sklearn-color-fitted-level-1);\n",
              "}\n",
              "\n",
              "/* On hover */\n",
              "div.sk-estimator:hover .sk-estimator-doc-link:hover,\n",
              ".sk-estimator-doc-link:hover,\n",
              "div.sk-label-container:hover .sk-estimator-doc-link:hover,\n",
              ".sk-estimator-doc-link:hover {\n",
              "  /* unfitted */\n",
              "  background-color: var(--sklearn-color-unfitted-level-3);\n",
              "  color: var(--sklearn-color-background);\n",
              "  text-decoration: none;\n",
              "}\n",
              "\n",
              "div.sk-estimator.fitted:hover .sk-estimator-doc-link.fitted:hover,\n",
              ".sk-estimator-doc-link.fitted:hover,\n",
              "div.sk-label-container:hover .sk-estimator-doc-link.fitted:hover,\n",
              ".sk-estimator-doc-link.fitted:hover {\n",
              "  /* fitted */\n",
              "  background-color: var(--sklearn-color-fitted-level-3);\n",
              "  color: var(--sklearn-color-background);\n",
              "  text-decoration: none;\n",
              "}\n",
              "\n",
              "/* Span, style for the box shown on hovering the info icon */\n",
              ".sk-estimator-doc-link span {\n",
              "  display: none;\n",
              "  z-index: 9999;\n",
              "  position: relative;\n",
              "  font-weight: normal;\n",
              "  right: .2ex;\n",
              "  padding: .5ex;\n",
              "  margin: .5ex;\n",
              "  width: min-content;\n",
              "  min-width: 20ex;\n",
              "  max-width: 50ex;\n",
              "  color: var(--sklearn-color-text);\n",
              "  box-shadow: 2pt 2pt 4pt #999;\n",
              "  /* unfitted */\n",
              "  background: var(--sklearn-color-unfitted-level-0);\n",
              "  border: .5pt solid var(--sklearn-color-unfitted-level-3);\n",
              "}\n",
              "\n",
              ".sk-estimator-doc-link.fitted span {\n",
              "  /* fitted */\n",
              "  background: var(--sklearn-color-fitted-level-0);\n",
              "  border: var(--sklearn-color-fitted-level-3);\n",
              "}\n",
              "\n",
              ".sk-estimator-doc-link:hover span {\n",
              "  display: block;\n",
              "}\n",
              "\n",
              "/* \"?\"-specific style due to the `<a>` HTML tag */\n",
              "\n",
              "#sk-container-id-3 a.estimator_doc_link {\n",
              "  float: right;\n",
              "  font-size: 1rem;\n",
              "  line-height: 1em;\n",
              "  font-family: monospace;\n",
              "  background-color: var(--sklearn-color-background);\n",
              "  border-radius: 1rem;\n",
              "  height: 1rem;\n",
              "  width: 1rem;\n",
              "  text-decoration: none;\n",
              "  /* unfitted */\n",
              "  color: var(--sklearn-color-unfitted-level-1);\n",
              "  border: var(--sklearn-color-unfitted-level-1) 1pt solid;\n",
              "}\n",
              "\n",
              "#sk-container-id-3 a.estimator_doc_link.fitted {\n",
              "  /* fitted */\n",
              "  border: var(--sklearn-color-fitted-level-1) 1pt solid;\n",
              "  color: var(--sklearn-color-fitted-level-1);\n",
              "}\n",
              "\n",
              "/* On hover */\n",
              "#sk-container-id-3 a.estimator_doc_link:hover {\n",
              "  /* unfitted */\n",
              "  background-color: var(--sklearn-color-unfitted-level-3);\n",
              "  color: var(--sklearn-color-background);\n",
              "  text-decoration: none;\n",
              "}\n",
              "\n",
              "#sk-container-id-3 a.estimator_doc_link.fitted:hover {\n",
              "  /* fitted */\n",
              "  background-color: var(--sklearn-color-fitted-level-3);\n",
              "}\n",
              "</style><div id=\"sk-container-id-3\" class=\"sk-top-container\"><div class=\"sk-text-repr-fallback\"><pre>KNeighborsClassifier(n_neighbors=3)</pre><b>In a Jupyter environment, please rerun this cell to show the HTML representation or trust the notebook. <br />On GitHub, the HTML representation is unable to render, please try loading this page with nbviewer.org.</b></div><div class=\"sk-container\" hidden><div class=\"sk-item\"><div class=\"sk-estimator fitted sk-toggleable\"><input class=\"sk-toggleable__control sk-hidden--visually\" id=\"sk-estimator-id-3\" type=\"checkbox\" checked><label for=\"sk-estimator-id-3\" class=\"sk-toggleable__label fitted sk-toggleable__label-arrow\"><div><div>KNeighborsClassifier</div></div><div><a class=\"sk-estimator-doc-link fitted\" rel=\"noreferrer\" target=\"_blank\" href=\"https://scikit-learn.org/1.6/modules/generated/sklearn.neighbors.KNeighborsClassifier.html\">?<span>Documentation for KNeighborsClassifier</span></a><span class=\"sk-estimator-doc-link fitted\">i<span>Fitted</span></span></div></label><div class=\"sk-toggleable__content fitted\"><pre>KNeighborsClassifier(n_neighbors=3)</pre></div> </div></div></div></div>"
            ]
          },
          "metadata": {},
          "execution_count": 55
        }
      ]
    },
    {
      "cell_type": "code",
      "source": [
        "print(kn.score(train_scaled, train_target))\n",
        "print(kn.score(test_scaled, test_target))"
      ],
      "metadata": {
        "colab": {
          "base_uri": "https://localhost:8080/"
        },
        "id": "U5QdqW9OiHeq",
        "outputId": "5ee0e968-4ec7-465a-c9a0-fc9f3f3658d6"
      },
      "execution_count": 56,
      "outputs": [
        {
          "output_type": "stream",
          "name": "stdout",
          "text": [
            "0.8907563025210085\n",
            "0.85\n"
          ]
        }
      ]
    },
    {
      "cell_type": "code",
      "source": [
        "# 전에는 0과 1을 찾는 이진분류였지만 지금은 타겟에 7개의 어종을 넣었다.\n",
        "print(kn.classes_) # 2개이상 클래스가 포함된 문제를 다중 분류라고 한다."
      ],
      "metadata": {
        "colab": {
          "base_uri": "https://localhost:8080/"
        },
        "id": "Yd5EFrci6ZSD",
        "outputId": "26bb9261-b207-4a72-dce6-0dab6589f94a"
      },
      "execution_count": 14,
      "outputs": [
        {
          "output_type": "stream",
          "name": "stdout",
          "text": [
            "['Bream' 'Parkki' 'Perch' 'Pike' 'Roach' 'Smelt' 'Whitefish']\n"
          ]
        }
      ]
    },
    {
      "cell_type": "code",
      "source": [
        "print(kn.predict(test_scaled[:5])) # 처음 5개 샘플을 타깃값 예측"
      ],
      "metadata": {
        "colab": {
          "base_uri": "https://localhost:8080/"
        },
        "id": "3rOTcp_87hAT",
        "outputId": "9dab06db-2337-4f88-a2d0-658c612f82ca"
      },
      "execution_count": 15,
      "outputs": [
        {
          "output_type": "stream",
          "name": "stdout",
          "text": [
            "['Perch' 'Smelt' 'Pike' 'Perch' 'Perch']\n"
          ]
        }
      ]
    },
    {
      "cell_type": "code",
      "source": [
        "print(test_scaled[:5]) # 확률값 출력\n",
        "# ['Perch' 'Smelt' 'Pike' 'Perch' 'Perch'] 순서"
      ],
      "metadata": {
        "colab": {
          "base_uri": "https://localhost:8080/"
        },
        "id": "GnSFqiIA71Jb",
        "outputId": "ca50552f-de71-4824-cc85-2362a37740c0"
      },
      "execution_count": 16,
      "outputs": [
        {
          "output_type": "stream",
          "name": "stdout",
          "text": [
            "[[-0.88741352 -0.91804565 -1.03098914 -0.90464451 -0.80762518]\n",
            " [-1.06924656 -1.50842035 -1.54345461 -1.58849582 -1.93803151]\n",
            " [-0.54401367  0.35641402  0.30663259 -0.8135697  -0.65388895]\n",
            " [-0.34698097 -0.23396068 -0.22320459 -0.11905019 -0.12233464]\n",
            " [-0.68475132 -0.51509149 -0.58801052 -0.8998784  -0.50124996]]\n"
          ]
        }
      ]
    },
    {
      "cell_type": "code",
      "source": [
        "import numpy as np\n",
        "\n",
        "proba = kn.predict_proba(test_scaled[:5])\n",
        "# 사이킷런이 번거로운 연산을 수행해줌으로 쉽게 결과가 나온다.\n",
        "print(np.round(proba, decimals=4))\n",
        "# (소수점 표시)decimals = 4: 네번째 자리까지 표시하고 다섯번째에서 반올림\n",
        "# ['Bream' 'Parkki' 'Perch' 'Pike' 'Roach' 'Smelt' 'Whitefish'] 순서"
      ],
      "metadata": {
        "colab": {
          "base_uri": "https://localhost:8080/"
        },
        "id": "v4giAV768Jvz",
        "outputId": "cb8e505b-ebca-4fa5-e2f0-8793d4f897f3"
      },
      "execution_count": 20,
      "outputs": [
        {
          "output_type": "stream",
          "name": "stdout",
          "text": [
            "[[0.     0.     1.     0.     0.     0.     0.    ]\n",
            " [0.     0.     0.     0.     0.     1.     0.    ]\n",
            " [0.     0.     0.     1.     0.     0.     0.    ]\n",
            " [0.     0.     0.6667 0.     0.3333 0.     0.    ]\n",
            " [0.     0.     0.6667 0.     0.3333 0.     0.    ]]\n"
          ]
        }
      ]
    },
    {
      "cell_type": "code",
      "source": [
        "# ['Perch' 'Smelt' 'Pike' 'Perch' 'Perch'] 결과를 확인할 수 있다.\n",
        "\n",
        "# 이 모델이 계산한 확률이 가장 가까운 이웃의 비율이 맞는지 확인이 필요함\n",
        "distances, indexes = kn.kneighbors(test_scaled[3:4]) # 4번째 값 확인\n",
        "#                                            Perch 2/3      Roach 1/3\n",
        "print(train_target[indexes]) # [0.     0.     0.6667 0.     0.3333 0.     0.    ]\n",
        "# Perch 2/3, Roach 1/3 이기 때문에 7개를 확률로 제공하지 못한다.\n",
        "# 이유 : n_neighbors = 3 으로 했기 때문"
      ],
      "metadata": {
        "colab": {
          "base_uri": "https://localhost:8080/"
        },
        "id": "sxYjkEGQ80PU",
        "outputId": "2fff1660-852a-47c9-cac7-bb9a7d445af0"
      },
      "execution_count": 21,
      "outputs": [
        {
          "output_type": "stream",
          "name": "stdout",
          "text": [
            "[['Roach' 'Perch' 'Perch']]\n"
          ]
        }
      ]
    },
    {
      "cell_type": "code",
      "source": [
        "# 알고리즘 변경 : 로지스틱 회구l(LogisiticRegression)\n",
        "# 로지스틱 회귀는 사이킷런에서 제공한다. (이름이 회귀지만 분류모델이다)\n",
        "# 선형회귀와 동일하게 선형방정식을 학습한다.\n",
        "# z = a * (Weight) + b * (Length) + c * ( Diagonal) + d * (Height) + e * ( Width) + f\n",
        "# a, b, c, d, e, f는 각 항복에 대한 가중치(중요도, 계수)\n",
        "# z는 어떤 값도 가능하지만 확률이 되려면 0~1(0%~100%)사이값\n",
        "# z가 아주 큰 음수일때 0, 아주 큰 양수일때 1이 되도록 바꾸는 방법은 시그모이드 함수, 로지스틱함수\n",
        "import numpy as np\n",
        "import matplotlib.pyplot as plt\n",
        "# 시그모이드 함수용 : z가 무한하게 큰 음수일 경우 0에 가까워지고 z가 무한하게 큰 양수일 경우 1에 가까워진다.\n",
        "z = np.arange(-5, 5, 0.1) # -5~5까지 0.1간격으로 배열 생성\n",
        "phi = 1 / (1 + np.exp(-z)) # np.exp() 함수로 시그모이드 적용\n",
        "plt.plot(z, phi)\n",
        "plt.xlabel('z')\n",
        "plt.ylabel('phi')\n",
        "plt.show()\n",
        "# 선형방정식 출력 z의 음수를 사용해서 자연 상수 e를 거듭제곱하고 1을 더한 값의 역수를 취한다.\n",
        "# 0~1사이 값을 0~100% 확률로 해석할 수 있다."
      ],
      "metadata": {
        "colab": {
          "base_uri": "https://localhost:8080/",
          "height": 449
        },
        "id": "MuYNOw6wAymk",
        "outputId": "2f25a64b-113f-44d7-cfd4-9d05eac96ecc"
      },
      "execution_count": 22,
      "outputs": [
        {
          "output_type": "display_data",
          "data": {
            "text/plain": [
              "<Figure size 640x480 with 1 Axes>"
            ],
            "image/png": "[encoded data removed]"
          },
          "metadata": {}
        }
      ]
    },
    {
      "cell_type": "code",
      "source": [
        "# 훈련전에 이진분류 알아보기\n",
        "# 이진분류인 경우 시그모이드 함수 출력이 0.5보다 크면 양성, 0.5보다 작으면 음성으로 판단\n",
        "# 단 0.5가 나오면 라이브러리마다 다르지만 사이킷런은 음성으로 판단함\n",
        "\n",
        "# 로지스틱회귀로 이진분류 수행 테스트\n",
        "# 넘파이 배열은 True, False값을 전달하여 행 선택이 가능하다.(불리언 인덱싱)\n",
        "char_arr = np.array([\"A\", \"B\", \"C\", \"D\", \"E\"])\n",
        "print(char_arr[[True, False, True, False, False]]) # 불리언 인덱싱 (True인 것만 나옴)\n",
        "\n",
        "# 위와 같은 방식으로 훈련 세트에서 도미(Bream)와 빙어(Smelt)의 행만 골라내기\n",
        "bream_smelt_indexes = (train_target == 'Bream') | (train_target == 'Smelt')\n",
        "\n",
        "# bream_smelt_indexes에 도미와 빙어일 경우 True 나머지는 False\n",
        "# 이 배열을 사용해서 train_scaled, train_tatget 배열에 인덱싱을 적용하면\n",
        "# 손쉽게 도미와 빙어 데이터만 골라낼 수 있다.\n",
        "train_bream_smelt = train_scaled[bream_smelt_indexes]\n",
        "target_bream_smelt = train_target[bream_smelt_indexes]"
      ],
      "metadata": {
        "colab": {
          "base_uri": "https://localhost:8080/"
        },
        "id": "RaBZ2G7pFBrF",
        "outputId": "18ca2432-8e9e-46bc-dc25-c2379d827aab"
      },
      "execution_count": 26,
      "outputs": [
        {
          "output_type": "stream",
          "name": "stdout",
          "text": [
            "['A' 'C']\n"
          ]
        }
      ]
    },
    {
      "cell_type": "code",
      "source": [
        "# 사이킷런 선형모델에 로지스틱 회귀 클래스 사용\n",
        "from sklearn.linear_model import LogisticRegression\n",
        "\n",
        "lr = LogisticRegression() # 로지스틱 회귀 객체 변수에 연결\n",
        "lr.fit(train_bream_smelt, target_bream_smelt) # 훈련 시작 -> 이진분류로 나옴"
      ],
      "metadata": {
        "colab": {
          "base_uri": "https://localhost:8080/",
          "height": 80
        },
        "id": "AnpmxHtwGp9d",
        "outputId": "a79dee61-7c8a-4d0b-fa87-8ea49a1ec42c"
      },
      "execution_count": 27,
      "outputs": [
        {
          "output_type": "execute_result",
          "data": {
            "text/plain": [
              "LogisticRegression()"
            ],
            "text/html": [
              "<style>#sk-container-id-1 {\n",
              "  /* Definition of color scheme common for light and dark mode */\n",
              "  --sklearn-color-text: #000;\n",
              "  --sklearn-color-text-muted: #666;\n",
              "  --sklearn-color-line: gray;\n",
              "  /* Definition of color scheme for unfitted estimators */\n",
              "  --sklearn-color-unfitted-level-0: #fff5e6;\n",
              "  --sklearn-color-unfitted-level-1: #f6e4d2;\n",
              "  --sklearn-color-unfitted-level-2: #ffe0b3;\n",
              "  --sklearn-color-unfitted-level-3: chocolate;\n",
              "  /* Definition of color scheme for fitted estimators */\n",
              "  --sklearn-color-fitted-level-0: #f0f8ff;\n",
              "  --sklearn-color-fitted-level-1: #d4ebff;\n",
              "  --sklearn-color-fitted-level-2: #b3dbfd;\n",
              "  --sklearn-color-fitted-level-3: cornflowerblue;\n",
              "\n",
              "  /* Specific color for light theme */\n",
              "  --sklearn-color-text-on-default-background: var(--sg-text-color, var(--theme-code-foreground, var(--jp-content-font-color1, black)));\n",
              "  --sklearn-color-background: var(--sg-background-color, var(--theme-background, var(--jp-layout-color0, white)));\n",
              "  --sklearn-color-border-box: var(--sg-text-color, var(--theme-code-foreground, var(--jp-content-font-color1, black)));\n",
              "  --sklearn-color-icon: #696969;\n",
              "\n",
              "  @media (prefers-color-scheme: dark) {\n",
              "    /* Redefinition of color scheme for dark theme */\n",
              "    --sklearn-color-text-on-default-background: var(--sg-text-color, var(--theme-code-foreground, var(--jp-content-font-color1, white)));\n",
              "    --sklearn-color-background: var(--sg-background-color, var(--theme-background, var(--jp-layout-color0, #111)));\n",
              "    --sklearn-color-border-box: var(--sg-text-color, var(--theme-code-foreground, var(--jp-content-font-color1, white)));\n",
              "    --sklearn-color-icon: #878787;\n",
              "  }\n",
              "}\n",
              "\n",
              "#sk-container-id-1 {\n",
              "  color: var(--sklearn-color-text);\n",
              "}\n",
              "\n",
              "#sk-container-id-1 pre {\n",
              "  padding: 0;\n",
              "}\n",
              "\n",
              "#sk-container-id-1 input.sk-hidden--visually {\n",
              "  border: 0;\n",
              "  clip: rect(1px 1px 1px 1px);\n",
              "  clip: rect(1px, 1px, 1px, 1px);\n",
              "  height: 1px;\n",
              "  margin: -1px;\n",
              "  overflow: hidden;\n",
              "  padding: 0;\n",
              "  position: absolute;\n",
              "  width: 1px;\n",
              "}\n",
              "\n",
              "#sk-container-id-1 div.sk-dashed-wrapped {\n",
              "  border: 1px dashed var(--sklearn-color-line);\n",
              "  margin: 0 0.4em 0.5em 0.4em;\n",
              "  box-sizing: border-box;\n",
              "  padding-bottom: 0.4em;\n",
              "  background-color: var(--sklearn-color-background);\n",
              "}\n",
              "\n",
              "#sk-container-id-1 div.sk-container {\n",
              "  /* jupyter's `normalize.less` sets `[hidden] { display: none; }`\n",
              "     but bootstrap.min.css set `[hidden] { display: none !important; }`\n",
              "     so we also need the `!important` here to be able to override the\n",
              "     default hidden behavior on the sphinx rendered scikit-learn.org.\n",
              "     See: https://github.com/scikit-learn/scikit-learn/issues/21755 */\n",
              "  display: inline-block !important;\n",
              "  position: relative;\n",
              "}\n",
              "\n",
              "#sk-container-id-1 div.sk-text-repr-fallback {\n",
              "  display: none;\n",
              "}\n",
              "\n",
              "div.sk-parallel-item,\n",
              "div.sk-serial,\n",
              "div.sk-item {\n",
              "  /* draw centered vertical line to link estimators */\n",
              "  background-image: linear-gradient(var(--sklearn-color-text-on-default-background), var(--sklearn-color-text-on-default-background));\n",
              "  background-size: 2px 100%;\n",
              "  background-repeat: no-repeat;\n",
              "  background-position: center center;\n",
              "}\n",
              "\n",
              "/* Parallel-specific style estimator block */\n",
              "\n",
              "#sk-container-id-1 div.sk-parallel-item::after {\n",
              "  content: \"\";\n",
              "  width: 100%;\n",
              "  border-bottom: 2px solid var(--sklearn-color-text-on-default-background);\n",
              "  flex-grow: 1;\n",
              "}\n",
              "\n",
              "#sk-container-id-1 div.sk-parallel {\n",
              "  display: flex;\n",
              "  align-items: stretch;\n",
              "  justify-content: center;\n",
              "  background-color: var(--sklearn-color-background);\n",
              "  position: relative;\n",
              "}\n",
              "\n",
              "#sk-container-id-1 div.sk-parallel-item {\n",
              "  display: flex;\n",
              "  flex-direction: column;\n",
              "}\n",
              "\n",
              "#sk-container-id-1 div.sk-parallel-item:first-child::after {\n",
              "  align-self: flex-end;\n",
              "  width: 50%;\n",
              "}\n",
              "\n",
              "#sk-container-id-1 div.sk-parallel-item:last-child::after {\n",
              "  align-self: flex-start;\n",
              "  width: 50%;\n",
              "}\n",
              "\n",
              "#sk-container-id-1 div.sk-parallel-item:only-child::after {\n",
              "  width: 0;\n",
              "}\n",
              "\n",
              "/* Serial-specific style estimator block */\n",
              "\n",
              "#sk-container-id-1 div.sk-serial {\n",
              "  display: flex;\n",
              "  flex-direction: column;\n",
              "  align-items: center;\n",
              "  background-color: var(--sklearn-color-background);\n",
              "  padding-right: 1em;\n",
              "  padding-left: 1em;\n",
              "}\n",
              "\n",
              "\n",
              "/* Toggleable style: style used for estimator/Pipeline/ColumnTransformer box that is\n",
              "clickable and can be expanded/collapsed.\n",
              "- Pipeline and ColumnTransformer use this feature and define the default style\n",
              "- Estimators will overwrite some part of the style using the `sk-estimator` class\n",
              "*/\n",
              "\n",
              "/* Pipeline and ColumnTransformer style (default) */\n",
              "\n",
              "#sk-container-id-1 div.sk-toggleable {\n",
              "  /* Default theme specific background. It is overwritten whether we have a\n",
              "  specific estimator or a Pipeline/ColumnTransformer */\n",
              "  background-color: var(--sklearn-color-background);\n",
              "}\n",
              "\n",
              "/* Toggleable label */\n",
              "#sk-container-id-1 label.sk-toggleable__label {\n",
              "  cursor: pointer;\n",
              "  display: flex;\n",
              "  width: 100%;\n",
              "  margin-bottom: 0;\n",
              "  padding: 0.5em;\n",
              "  box-sizing: border-box;\n",
              "  text-align: center;\n",
              "  align-items: start;\n",
              "  justify-content: space-between;\n",
              "  gap: 0.5em;\n",
              "}\n",
              "\n",
              "#sk-container-id-1 label.sk-toggleable__label .caption {\n",
              "  font-size: 0.6rem;\n",
              "  font-weight: lighter;\n",
              "  color: var(--sklearn-color-text-muted);\n",
              "}\n",
              "\n",
              "#sk-container-id-1 label.sk-toggleable__label-arrow:before {\n",
              "  /* Arrow on the left of the label */\n",
              "  content: \"▸\";\n",
              "  float: left;\n",
              "  margin-right: 0.25em;\n",
              "  color: var(--sklearn-color-icon);\n",
              "}\n",
              "\n",
              "#sk-container-id-1 label.sk-toggleable__label-arrow:hover:before {\n",
              "  color: var(--sklearn-color-text);\n",
              "}\n",
              "\n",
              "/* Toggleable content - dropdown */\n",
              "\n",
              "#sk-container-id-1 div.sk-toggleable__content {\n",
              "  max-height: 0;\n",
              "  max-width: 0;\n",
              "  overflow: hidden;\n",
              "  text-align: left;\n",
              "  /* unfitted */\n",
              "  background-color: var(--sklearn-color-unfitted-level-0);\n",
              "}\n",
              "\n",
              "#sk-container-id-1 div.sk-toggleable__content.fitted {\n",
              "  /* fitted */\n",
              "  background-color: var(--sklearn-color-fitted-level-0);\n",
              "}\n",
              "\n",
              "#sk-container-id-1 div.sk-toggleable__content pre {\n",
              "  margin: 0.2em;\n",
              "  border-radius: 0.25em;\n",
              "  color: var(--sklearn-color-text);\n",
              "  /* unfitted */\n",
              "  background-color: var(--sklearn-color-unfitted-level-0);\n",
              "}\n",
              "\n",
              "#sk-container-id-1 div.sk-toggleable__content.fitted pre {\n",
              "  /* unfitted */\n",
              "  background-color: var(--sklearn-color-fitted-level-0);\n",
              "}\n",
              "\n",
              "#sk-container-id-1 input.sk-toggleable__control:checked~div.sk-toggleable__content {\n",
              "  /* Expand drop-down */\n",
              "  max-height: 200px;\n",
              "  max-width: 100%;\n",
              "  overflow: auto;\n",
              "}\n",
              "\n",
              "#sk-container-id-1 input.sk-toggleable__control:checked~label.sk-toggleable__label-arrow:before {\n",
              "  content: \"▾\";\n",
              "}\n",
              "\n",
              "/* Pipeline/ColumnTransformer-specific style */\n",
              "\n",
              "#sk-container-id-1 div.sk-label input.sk-toggleable__control:checked~label.sk-toggleable__label {\n",
              "  color: var(--sklearn-color-text);\n",
              "  background-color: var(--sklearn-color-unfitted-level-2);\n",
              "}\n",
              "\n",
              "#sk-container-id-1 div.sk-label.fitted input.sk-toggleable__control:checked~label.sk-toggleable__label {\n",
              "  background-color: var(--sklearn-color-fitted-level-2);\n",
              "}\n",
              "\n",
              "/* Estimator-specific style */\n",
              "\n",
              "/* Colorize estimator box */\n",
              "#sk-container-id-1 div.sk-estimator input.sk-toggleable__control:checked~label.sk-toggleable__label {\n",
              "  /* unfitted */\n",
              "  background-color: var(--sklearn-color-unfitted-level-2);\n",
              "}\n",
              "\n",
              "#sk-container-id-1 div.sk-estimator.fitted input.sk-toggleable__control:checked~label.sk-toggleable__label {\n",
              "  /* fitted */\n",
              "  background-color: var(--sklearn-color-fitted-level-2);\n",
              "}\n",
              "\n",
              "#sk-container-id-1 div.sk-label label.sk-toggleable__label,\n",
              "#sk-container-id-1 div.sk-label label {\n",
              "  /* The background is the default theme color */\n",
              "  color: var(--sklearn-color-text-on-default-background);\n",
              "}\n",
              "\n",
              "/* On hover, darken the color of the background */\n",
              "#sk-container-id-1 div.sk-label:hover label.sk-toggleable__label {\n",
              "  color: var(--sklearn-color-text);\n",
              "  background-color: var(--sklearn-color-unfitted-level-2);\n",
              "}\n",
              "\n",
              "/* Label box, darken color on hover, fitted */\n",
              "#sk-container-id-1 div.sk-label.fitted:hover label.sk-toggleable__label.fitted {\n",
              "  color: var(--sklearn-color-text);\n",
              "  background-color: var(--sklearn-color-fitted-level-2);\n",
              "}\n",
              "\n",
              "/* Estimator label */\n",
              "\n",
              "#sk-container-id-1 div.sk-label label {\n",
              "  font-family: monospace;\n",
              "  font-weight: bold;\n",
              "  display: inline-block;\n",
              "  line-height: 1.2em;\n",
              "}\n",
              "\n",
              "#sk-container-id-1 div.sk-label-container {\n",
              "  text-align: center;\n",
              "}\n",
              "\n",
              "/* Estimator-specific */\n",
              "#sk-container-id-1 div.sk-estimator {\n",
              "  font-family: monospace;\n",
              "  border: 1px dotted var(--sklearn-color-border-box);\n",
              "  border-radius: 0.25em;\n",
              "  box-sizing: border-box;\n",
              "  margin-bottom: 0.5em;\n",
              "  /* unfitted */\n",
              "  background-color: var(--sklearn-color-unfitted-level-0);\n",
              "}\n",
              "\n",
              "#sk-container-id-1 div.sk-estimator.fitted {\n",
              "  /* fitted */\n",
              "  background-color: var(--sklearn-color-fitted-level-0);\n",
              "}\n",
              "\n",
              "/* on hover */\n",
              "#sk-container-id-1 div.sk-estimator:hover {\n",
              "  /* unfitted */\n",
              "  background-color: var(--sklearn-color-unfitted-level-2);\n",
              "}\n",
              "\n",
              "#sk-container-id-1 div.sk-estimator.fitted:hover {\n",
              "  /* fitted */\n",
              "  background-color: var(--sklearn-color-fitted-level-2);\n",
              "}\n",
              "\n",
              "/* Specification for estimator info (e.g. \"i\" and \"?\") */\n",
              "\n",
              "/* Common style for \"i\" and \"?\" */\n",
              "\n",
              ".sk-estimator-doc-link,\n",
              "a:link.sk-estimator-doc-link,\n",
              "a:visited.sk-estimator-doc-link {\n",
              "  float: right;\n",
              "  font-size: smaller;\n",
              "  line-height: 1em;\n",
              "  font-family: monospace;\n",
              "  background-color: var(--sklearn-color-background);\n",
              "  border-radius: 1em;\n",
              "  height: 1em;\n",
              "  width: 1em;\n",
              "  text-decoration: none !important;\n",
              "  margin-left: 0.5em;\n",
              "  text-align: center;\n",
              "  /* unfitted */\n",
              "  border: var(--sklearn-color-unfitted-level-1) 1pt solid;\n",
              "  color: var(--sklearn-color-unfitted-level-1);\n",
              "}\n",
              "\n",
              ".sk-estimator-doc-link.fitted,\n",
              "a:link.sk-estimator-doc-link.fitted,\n",
              "a:visited.sk-estimator-doc-link.fitted {\n",
              "  /* fitted */\n",
              "  border: var(--sklearn-color-fitted-level-1) 1pt solid;\n",
              "  color: var(--sklearn-color-fitted-level-1);\n",
              "}\n",
              "\n",
              "/* On hover */\n",
              "div.sk-estimator:hover .sk-estimator-doc-link:hover,\n",
              ".sk-estimator-doc-link:hover,\n",
              "div.sk-label-container:hover .sk-estimator-doc-link:hover,\n",
              ".sk-estimator-doc-link:hover {\n",
              "  /* unfitted */\n",
              "  background-color: var(--sklearn-color-unfitted-level-3);\n",
              "  color: var(--sklearn-color-background);\n",
              "  text-decoration: none;\n",
              "}\n",
              "\n",
              "div.sk-estimator.fitted:hover .sk-estimator-doc-link.fitted:hover,\n",
              ".sk-estimator-doc-link.fitted:hover,\n",
              "div.sk-label-container:hover .sk-estimator-doc-link.fitted:hover,\n",
              ".sk-estimator-doc-link.fitted:hover {\n",
              "  /* fitted */\n",
              "  background-color: var(--sklearn-color-fitted-level-3);\n",
              "  color: var(--sklearn-color-background);\n",
              "  text-decoration: none;\n",
              "}\n",
              "\n",
              "/* Span, style for the box shown on hovering the info icon */\n",
              ".sk-estimator-doc-link span {\n",
              "  display: none;\n",
              "  z-index: 9999;\n",
              "  position: relative;\n",
              "  font-weight: normal;\n",
              "  right: .2ex;\n",
              "  padding: .5ex;\n",
              "  margin: .5ex;\n",
              "  width: min-content;\n",
              "  min-width: 20ex;\n",
              "  max-width: 50ex;\n",
              "  color: var(--sklearn-color-text);\n",
              "  box-shadow: 2pt 2pt 4pt #999;\n",
              "  /* unfitted */\n",
              "  background: var(--sklearn-color-unfitted-level-0);\n",
              "  border: .5pt solid var(--sklearn-color-unfitted-level-3);\n",
              "}\n",
              "\n",
              ".sk-estimator-doc-link.fitted span {\n",
              "  /* fitted */\n",
              "  background: var(--sklearn-color-fitted-level-0);\n",
              "  border: var(--sklearn-color-fitted-level-3);\n",
              "}\n",
              "\n",
              ".sk-estimator-doc-link:hover span {\n",
              "  display: block;\n",
              "}\n",
              "\n",
              "/* \"?\"-specific style due to the `<a>` HTML tag */\n",
              "\n",
              "#sk-container-id-1 a.estimator_doc_link {\n",
              "  float: right;\n",
              "  font-size: 1rem;\n",
              "  line-height: 1em;\n",
              "  font-family: monospace;\n",
              "  background-color: var(--sklearn-color-background);\n",
              "  border-radius: 1rem;\n",
              "  height: 1rem;\n",
              "  width: 1rem;\n",
              "  text-decoration: none;\n",
              "  /* unfitted */\n",
              "  color: var(--sklearn-color-unfitted-level-1);\n",
              "  border: var(--sklearn-color-unfitted-level-1) 1pt solid;\n",
              "}\n",
              "\n",
              "#sk-container-id-1 a.estimator_doc_link.fitted {\n",
              "  /* fitted */\n",
              "  border: var(--sklearn-color-fitted-level-1) 1pt solid;\n",
              "  color: var(--sklearn-color-fitted-level-1);\n",
              "}\n",
              "\n",
              "/* On hover */\n",
              "#sk-container-id-1 a.estimator_doc_link:hover {\n",
              "  /* unfitted */\n",
              "  background-color: var(--sklearn-color-unfitted-level-3);\n",
              "  color: var(--sklearn-color-background);\n",
              "  text-decoration: none;\n",
              "}\n",
              "\n",
              "#sk-container-id-1 a.estimator_doc_link.fitted:hover {\n",
              "  /* fitted */\n",
              "  background-color: var(--sklearn-color-fitted-level-3);\n",
              "}\n",
              "</style><div id=\"sk-container-id-1\" class=\"sk-top-container\"><div class=\"sk-text-repr-fallback\"><pre>LogisticRegression()</pre><b>In a Jupyter environment, please rerun this cell to show the HTML representation or trust the notebook. <br />On GitHub, the HTML representation is unable to render, please try loading this page with nbviewer.org.</b></div><div class=\"sk-container\" hidden><div class=\"sk-item\"><div class=\"sk-estimator fitted sk-toggleable\"><input class=\"sk-toggleable__control sk-hidden--visually\" id=\"sk-estimator-id-1\" type=\"checkbox\" checked><label for=\"sk-estimator-id-1\" class=\"sk-toggleable__label fitted sk-toggleable__label-arrow\"><div><div>LogisticRegression</div></div><div><a class=\"sk-estimator-doc-link fitted\" rel=\"noreferrer\" target=\"_blank\" href=\"https://scikit-learn.org/1.6/modules/generated/sklearn.linear_model.LogisticRegression.html\">?<span>Documentation for LogisticRegression</span></a><span class=\"sk-estimator-doc-link fitted\">i<span>Fitted</span></span></div></label><div class=\"sk-toggleable__content fitted\"><pre>LogisticRegression()</pre></div> </div></div></div></div>"
            ]
          },
          "metadata": {},
          "execution_count": 27
        }
      ]
    },
    {
      "cell_type": "code",
      "source": [
        "# train_bream_smelt에 처음 5개 값에 대한 결론\n",
        "print(lr.predict(train_bream_smelt[:5])) # 도미 4개, 빙어 1개"
      ],
      "metadata": {
        "colab": {
          "base_uri": "https://localhost:8080/"
        },
        "id": "TZAgGDuLK95-",
        "outputId": "04f1b06a-167b-4a06-82b6-b040cc0c1ec0"
      },
      "execution_count": 28,
      "outputs": [
        {
          "output_type": "stream",
          "name": "stdout",
          "text": [
            "['Bream' 'Smelt' 'Bream' 'Bream' 'Bream']\n"
          ]
        }
      ]
    },
    {
      "cell_type": "code",
      "source": [
        "print(lr.predict_proba(train_bream_smelt[:5])) # 확률 확인\n",
        "# 시그모이드 함수 : 샘플마다 2개의 확률 출력\n",
        "# 첫번째 열이 0(음성)에 대한 확률, 두번째 열이 1(양성)에 대한 확률\n",
        "# 사이킷런의 타깃값은 알파벳 순으로 정렬해서 사용한다.\n",
        "print(lr.classes_) # Smelt(빙아) : 양성\n",
        "# 두번째 샘플만 양성 클래스인 빙어의 확률이 높다.(나머지 도미로 예측)\n",
        "# 만약 도미(Bream)를 양성 클래스로 사용하고 싶으면 전처리에서 Bream인 타깃값을 1로 만들면 된다."
      ],
      "metadata": {
        "colab": {
          "base_uri": "https://localhost:8080/"
        },
        "id": "HMupGrfdLjBG",
        "outputId": "c6db52d2-c78a-4701-e55a-f90cec16aa48"
      },
      "execution_count": 33,
      "outputs": [
        {
          "output_type": "stream",
          "name": "stdout",
          "text": [
            "[[0.99760007 0.00239993]\n",
            " [0.02737325 0.97262675]\n",
            " [0.99486386 0.00513614]\n",
            " [0.98585047 0.01414953]\n",
            " [0.99767419 0.00232581]]\n",
            "['Bream' 'Smelt']\n"
          ]
        }
      ]
    },
    {
      "cell_type": "code",
      "source": [
        "# 로지스틱 회귀로 학습한 계수(중요도) 알아보기\n",
        "print(lr.coef_, lr.intercept_)\n",
        "# 선형 방정식에 대입해서 결과가 나온다.\n",
        "# z = a * (Weight) + b * (Length) + c * (Diagonal) + d * (Height) + e * (Width) + f\n",
        "# z = -0.40451732 * (Weight) + -0.57582787 * (Length) + -0.66248158 * (Diagonal)\n",
        "# -1.01329614 * (Height) +  -0.73123131 * (Width) + -2.16172774 로 가중치 결정\n",
        "\n",
        "decisions = lr.decision_function(train_bream_smelt[:5])\n",
        "# train_bream_smelt의 처음 5개 z값 출력\n",
        "print('z 점수',decisions)"
      ],
      "metadata": {
        "colab": {
          "base_uri": "https://localhost:8080/"
        },
        "id": "WNA6rLy2OET2",
        "outputId": "badf3cba-6109-4368-adbc-4f933a4f1090"
      },
      "execution_count": 39,
      "outputs": [
        {
          "output_type": "stream",
          "name": "stdout",
          "text": [
            "[[-0.40451732 -0.57582787 -0.66248158 -1.01329614 -0.73123131]] [-2.16172774]\n",
            "[-6.02991358  3.57043428 -5.26630496 -4.24382314 -6.06135688]\n"
          ]
        }
      ]
    },
    {
      "cell_type": "code",
      "source": [
        "# z값을 시그모이드 함수에 통과 시키면 확률을 얻을 수 있다.\n",
        "# 파이썬의 사이파이(scipy) 라이브러리에서도 시그모이드 함수가 있다 -> expit()\n",
        "from scipy.special import expit\n",
        "print(expit(decisions)) # phi = 1/ 1(+np.exp(-z))\n",
        "# 여기까지가 3개의 물고기를 분류하는 방법\n",
        "# [도미, 빙어, 도미, 도미, 도미] 순서"
      ],
      "metadata": {
        "colab": {
          "base_uri": "https://localhost:8080/"
        },
        "id": "1BdVqsH5RTNf",
        "outputId": "c0ee1f66-6026-4ff8-a4e8-8a44d0e9ab3f"
      },
      "execution_count": 41,
      "outputs": [
        {
          "output_type": "stream",
          "name": "stdout",
          "text": [
            "[0.00239993 0.97262675 0.00513614 0.01414953 0.00232581]\n"
          ]
        }
      ]
    },
    {
      "cell_type": "code",
      "source": [
        "# 다중분류 (이진분류는 True아니면 모두 False처리 된다.)\n",
        "# 현재 어종 7개를 로지스틱 회귀로 분류 학습하기\n",
        "# LogisticRegression 클래스는 기본적으로 반복적인 알고리즘을 사용하고 (max_iter 기본값 100) 릿지 회귀와 같은 계수를 제곱을 규제한다(L2 규제)\n",
        "# 릿지 회귀에서는 alpha매개변수로 규제 양을 조절했다 -> alpha가 크면 규제도 커진다\n",
        "# 로지스틱 회귀에서는 규제를 제어하는 매개변수가 C로 되어있다 -> C가 작으면 규제가 커진다(기본 1) 규제를 완화하기 위해 20으로 향상\n",
        "# max_iter 반복횟수를 100으로 하면 부족하다라는 경고 문구가 나와 1000으로 향상\n",
        "\n",
        "lr = LogisticRegression(C=20, max_iter=1000) # max_iter = 1000 정확도를 위해 1000번 반복\n",
        "lr.fit(train_scaled, train_target)\n",
        "\n",
        "print(lr.score(train_scaled, train_target))\n",
        "print(lr.score(test_scaled, test_target)) # 과소나 과대적합이 아닌듯함"
      ],
      "metadata": {
        "colab": {
          "base_uri": "https://localhost:8080/"
        },
        "id": "kOSHqdf5R2rf",
        "outputId": "0f0cc402-9fb7-4971-94d9-f4b50851f390"
      },
      "execution_count": 42,
      "outputs": [
        {
          "output_type": "stream",
          "name": "stdout",
          "text": [
            "0.9327731092436975\n",
            "0.925\n"
          ]
        }
      ]
    },
    {
      "cell_type": "code",
      "source": [
        "print(lr.predict(test_scaled[:5])) # 결과 분석시 다중분류로 나옴"
      ],
      "metadata": {
        "colab": {
          "base_uri": "https://localhost:8080/"
        },
        "id": "Pjp63D1LT4qP",
        "outputId": "8b21bbf5-73db-4b54-a76e-95640757282c"
      },
      "execution_count": 44,
      "outputs": [
        {
          "output_type": "stream",
          "name": "stdout",
          "text": [
            "['Perch' 'Smelt' 'Pike' 'Roach' 'Perch']\n"
          ]
        }
      ]
    },
    {
      "cell_type": "code",
      "source": [
        "proba = lr.predict_proba(test_scaled[:5])\n",
        "print(np.round(proba, decimals=3))\n",
        "# ['Bream' 'Parkki' 'Perch' 'Pike' 'Roach' 'Smelt' 'Whitefish'] 순서\n",
        "print(lr.classes_) # 알파벳 순으로 정렬 / 7개의 클래스 명확하게 구분"
      ],
      "metadata": {
        "colab": {
          "base_uri": "https://localhost:8080/"
        },
        "id": "3m6E5ZNKUdvX",
        "outputId": "5eab1623-b678-477e-d316-7a8db2873769"
      },
      "execution_count": 46,
      "outputs": [
        {
          "output_type": "stream",
          "name": "stdout",
          "text": [
            "[[0.    0.014 0.842 0.    0.135 0.007 0.003]\n",
            " [0.    0.003 0.044 0.    0.007 0.946 0.   ]\n",
            " [0.    0.    0.034 0.934 0.015 0.016 0.   ]\n",
            " [0.011 0.034 0.305 0.006 0.567 0.    0.076]\n",
            " [0.    0.    0.904 0.002 0.089 0.002 0.001]]\n",
            "['Bream' 'Parkki' 'Perch' 'Pike' 'Roach' 'Smelt' 'Whitefish']\n"
          ]
        }
      ]
    },
    {
      "cell_type": "code",
      "source": [
        "# 다중 분류일때 선형방정식\n",
        "print(lr.coef_.shape, lr.intercept_.shape)\n",
        "# (7, 5) : 7개의 행, 5개의 특성\n",
        "# (7, ) : 7개의 행 -> 이진 분류에서 보았던 z를 7개를 계산\n",
        "# 다중 분류는 클래스마다 z값을 하나씩 계산한다는 의미다.\n",
        "# 당연히 가장 높은 z값을 출력하는 클래스가 예측 클래스가 된다.\n",
        "# 확률 ? :\n",
        "# 이진분류에서는 시그모이드 함수를 사용해 z를 0과 1사이 값으로 변환했다.\n",
        "# 다중분류에서 소프트맥스 함수를 사용해 7개의 z값을 확률로 변환한다.\n",
        "# 소프트맥스 계산법\n",
        "# e_sum = e^z1 + e^z2 + e^z3 +e^z4 + e^z5 + e^z6 + e^z7\n",
        "# s1 = e^z1 / e_sum ...... s7 = e^z7 / e_sum -> s1 ~ s7 까지 모두 더하면 분모가 같아져서 1이 된다."
      ],
      "metadata": {
        "colab": {
          "base_uri": "https://localhost:8080/"
        },
        "id": "11Huvf0sUwI_",
        "outputId": "ba2fca9d-cc77-401e-cbe0-6a21fbbf97dd"
      },
      "execution_count": 47,
      "outputs": [
        {
          "output_type": "stream",
          "name": "stdout",
          "text": [
            "(7, 5) (7,)\n"
          ]
        }
      ]
    },
    {
      "cell_type": "markdown",
      "source": [
        "![image.png](data:image/png;base64,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)"
      ],
      "metadata": {
        "id": "oCJmc7UAXA1g"
      }
    },
    {
      "cell_type": "code",
      "source": [
        "decision = lr.decision_function(test_scaled[:5])\n",
        "print(\"5개의 샘플에 대한 z1 ~ z7의 값\\n\")\n",
        "for idx, z in enumerate(decision):\n",
        "    print(f'{idx}번째 샘플의 z값\\n{z}\\n')"
      ],
      "metadata": {
        "colab": {
          "base_uri": "https://localhost:8080/"
        },
        "id": "G3pf4Px-WH0Q",
        "outputId": "db375323-0151-4273-a574-a8b00ce64f5e"
      },
      "execution_count": 49,
      "outputs": [
        {
          "output_type": "stream",
          "name": "stdout",
          "text": [
            "5개의 샘플에 대한 z1 ~ z7의 값\n",
            "\n",
            "0번째 샘플의 z값\n",
            "[-6.50722814  1.03902666  5.16819138 -2.75730346  3.33655201  0.34625859\n",
            " -0.62549704]\n",
            "\n",
            "1번째 샘플의 z값\n",
            "[-10.87900747   1.94410609   4.77600607  -2.42306183   2.98748716\n",
            "   7.84171377  -4.24724379]\n",
            "\n",
            "2번째 샘플의 z값\n",
            "[-4.33809959 -6.23690282  3.16746648  6.48091391  2.36412675  2.43431898\n",
            " -3.87182371]\n",
            "\n",
            "3번째 샘플의 z값\n",
            "[-0.69143994  0.44628533  2.64291146 -1.21457286  3.2612452  -5.70143404\n",
            "  1.25700485]\n",
            "\n",
            "4번째 샘플의 z값\n",
            "[-6.40138612 -1.99137623  5.81526372 -0.134644    3.49905134 -0.08753485\n",
            " -0.69937385]\n",
            "\n"
          ]
        }
      ]
    },
    {
      "cell_type": "code",
      "source": [
        "from scipy.special import softmax\n",
        "print(\"소프트맥스 함수로 예측 확률 구하기\\n\")\n",
        "class_ = lr.classes_.tolist() + [\"예측 결과\"]\n",
        "prd = lr.predict(test_scaled[:5]).reshape(5,-1)\n",
        "sm = softmax(decision, axis=1).round(2) * 100\n",
        "con = np.column_stack((sm,prd))\n",
        "print(pd.DataFrame(con,columns=class_))"
      ],
      "metadata": {
        "colab": {
          "base_uri": "https://localhost:8080/"
        },
        "id": "ooq8WCxxX7n5",
        "outputId": "97f348bf-6ac0-4ff0-b723-fe41f1d25483"
      },
      "execution_count": 53,
      "outputs": [
        {
          "output_type": "stream",
          "name": "stdout",
          "text": [
            "소프트맥스 함수로 예측 확률 구하기\n",
            "\n",
            "  Bream Parkki Perch  Pike Roach Smelt Whitefish  예측 결과\n",
            "0   0.0    1.0  84.0   0.0  13.0   1.0       0.0  Perch\n",
            "1   0.0    0.0   4.0   0.0   1.0  95.0       0.0  Smelt\n",
            "2   0.0    0.0   3.0  93.0   2.0   2.0       0.0   Pike\n",
            "3   1.0    3.0  31.0   1.0  57.0   0.0       8.0  Roach\n",
            "4   0.0    0.0  90.0   0.0   9.0   0.0       0.0  Perch\n"
          ]
        }
      ]
    },
    {
      "cell_type": "code",
      "source": [],
      "metadata": {
        "id": "AJS_iniUiNKp"
      },
      "execution_count": null,
      "outputs": []
    }
  ]
}